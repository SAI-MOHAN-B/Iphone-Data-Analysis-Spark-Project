{
 "cells": [
  {
   "cell_type": "code",
   "execution_count": 1,
   "id": "399fcc54-2c68-4b3e-ac01-60c8d740160e",
   "metadata": {},
   "outputs": [],
   "source": [
    "from pyspark.sql import SparkSession"
   ]
  },
  {
   "cell_type": "code",
   "execution_count": 5,
   "id": "72ef0a68-8769-470f-a07b-9d4950f95dac",
   "metadata": {},
   "outputs": [],
   "source": [
    "spark = SparkSession.builder.appName(\"Iphone-data\").getOrCreate()"
   ]
  },
  {
   "cell_type": "code",
   "execution_count": 6,
   "id": "b6b1114f-3147-4115-a4b9-1d9056c277fc",
   "metadata": {},
   "outputs": [
    {
     "data": {
      "text/html": [
       "\n",
       "            <div>\n",
       "                <p><b>SparkSession - in-memory</b></p>\n",
       "                \n",
       "        <div>\n",
       "            <p><b>SparkContext</b></p>\n",
       "\n",
       "            <p><a href=\"http://SAYONARA:4040\">Spark UI</a></p>\n",
       "\n",
       "            <dl>\n",
       "              <dt>Version</dt>\n",
       "                <dd><code>v3.5.1</code></dd>\n",
       "              <dt>Master</dt>\n",
       "                <dd><code>local[*]</code></dd>\n",
       "              <dt>AppName</dt>\n",
       "                <dd><code>Iphone-data</code></dd>\n",
       "            </dl>\n",
       "        </div>\n",
       "        \n",
       "            </div>\n",
       "        "
      ],
      "text/plain": [
       "<pyspark.sql.session.SparkSession at 0x2326ace9610>"
      ]
     },
     "execution_count": 6,
     "metadata": {},
     "output_type": "execute_result"
    }
   ],
   "source": [
    "spark"
   ]
  },
  {
   "cell_type": "code",
   "execution_count": 7,
   "id": "c28b9608-8a79-48a3-95af-da32c2b81f37",
   "metadata": {
    "scrolled": true
   },
   "outputs": [
    {
     "data": {
      "text/plain": [
       "'E:\\\\Jupyter notebook\\\\Darshil Spark\\\\apache-spark-with-data-bricks-for-data-engineering-main\\\\Iphone Data Analysis Spark Project\\\\apple_data'"
      ]
     },
     "execution_count": 7,
     "metadata": {},
     "output_type": "execute_result"
    }
   ],
   "source": [
    "pwd"
   ]
  },
  {
   "cell_type": "code",
   "execution_count": 33,
   "id": "497c6fd8-91ab-426b-82a3-fb9fb02135fb",
   "metadata": {},
   "outputs": [],
   "source": [
    "dataframe_df = spark.read.format(\"csv\").option(\"inferSchema\",\"true\").option(\"header\",\"true\").load(\"apple_products.csv\")"
   ]
  },
  {
   "cell_type": "code",
   "execution_count": 34,
   "id": "f3acfa15-1911-4e43-b453-bea1cb999a2e",
   "metadata": {},
   "outputs": [
    {
     "data": {
      "text/plain": [
       "DataFrame[Product Name: string, Product URL: string, Brand: string, Sale Price: int, Mrp: int, Discount Percentage: int, Number Of Ratings: int, Number Of Reviews: int, Upc: string, Star Rating: double, Ram: string]"
      ]
     },
     "execution_count": 34,
     "metadata": {},
     "output_type": "execute_result"
    }
   ],
   "source": [
    "dataframe_df"
   ]
  },
  {
   "cell_type": "code",
   "execution_count": 35,
   "id": "43f11d5f-f6fe-456b-91df-7690d26201a2",
   "metadata": {},
   "outputs": [
    {
     "name": "stdout",
     "output_type": "stream",
     "text": [
      "+--------------------+--------------------+-----+----------+------+-------------------+-----------------+-----------------+----------------+-----------+----+\n",
      "|        Product Name|         Product URL|Brand|Sale Price|   Mrp|Discount Percentage|Number Of Ratings|Number Of Reviews|             Upc|Star Rating| Ram|\n",
      "+--------------------+--------------------+-----+----------+------+-------------------+-----------------+-----------------+----------------+-----------+----+\n",
      "|APPLE iPhone 8 Pl...|https://www.flipk...|Apple|     49900| 49900|                  0|             3431|              356|MOBEXRGV7EHHTGUH|        4.6|2 GB|\n",
      "|APPLE iPhone 8 Pl...|https://www.flipk...|Apple|     84900| 84900|                  0|             3431|              356|MOBEXRGVAC6TJT4F|        4.6|2 GB|\n",
      "|APPLE iPhone 8 Pl...|https://www.flipk...|Apple|     84900| 84900|                  0|             3431|              356|MOBEXRGVGETABXWZ|        4.6|2 GB|\n",
      "|APPLE iPhone 8 (S...|https://www.flipk...|Apple|     77000| 77000|                  0|            11202|              794|MOBEXRGVMZWUHCBA|        4.5|2 GB|\n",
      "|APPLE iPhone 8 (G...|https://www.flipk...|Apple|     77000| 77000|                  0|            11202|              794|MOBEXRGVPK7PFEJZ|        4.5|2 GB|\n",
      "|APPLE iPhone 8 Pl...|https://www.flipk...|Apple|     49900| 49900|                  0|             3431|              356|MOBEXRGVQGYYP8FV|        4.6|2 GB|\n",
      "|APPLE iPhone 8 Pl...|https://www.flipk...|Apple|     49900| 49900|                  0|             3431|              356|MOBEXRGVQKBREZP8|        4.6|2 GB|\n",
      "|APPLE iPhone 8 (S...|https://www.flipk...|Apple|     77000| 77000|                  0|            11202|              794|MOBEXRGVZFZGZEWV|        4.5|2 GB|\n",
      "|APPLE iPhone XS M...|https://www.flipk...|Apple|     89900| 89900|                  0|             1454|              149|MOBF944E2XAHW8V5|        4.6|4 GB|\n",
      "|Apple iPhone XR (...|https://www.flipk...|Apple|     41999| 52900|                 20|            79512|             6796|MOBF9Z7ZHQC23PWQ|        4.6|4 GB|\n",
      "|Apple iPhone XR (...|https://www.flipk...|Apple|     39999| 47900|                 16|            79512|             6796|MOBF9Z7ZPHGV4GNH|        4.6|4 GB|\n",
      "|Apple iPhone XR (...|https://www.flipk...|Apple|     41999| 52900|                 20|            79582|             6804|MOBF9Z7ZS6GF5UAP|        4.6|4 GB|\n",
      "|Apple iPhone XR (...|https://www.flipk...|Apple|     41999| 52900|                 20|            79512|             6796|MOBF9Z7ZYWNFGZUC|        4.6|3 GB|\n",
      "|Apple iPhone XR (...|https://www.flipk...|Apple|     41999| 52900|                 20|            79512|             6796|MOBF9Z7ZZY3HCDZZ|        4.6|4 GB|\n",
      "|APPLE iPhone 11 P...|https://www.flipk...|Apple|    131900|131900|                  0|             1078|              101|MOBFKCTS7HCHSPFH|        4.7|4 GB|\n",
      "|APPLE iPhone 11 P...|https://www.flipk...|Apple|    117100|117100|                  0|             1078|              101|MOBFKCTSAPAYNSGG|        4.7|4 GB|\n",
      "|APPLE iPhone 11 P...|https://www.flipk...|Apple|    131900|131900|                  0|             1078|              101|MOBFKCTSCAAKGQV7|        4.7|4 GB|\n",
      "|APPLE iPhone 11 P...|https://www.flipk...|Apple|    117100|117100|                  0|             1078|              101|MOBFKCTSKDMKCGQS|        4.7|4 GB|\n",
      "|APPLE iPhone 11 P...|https://www.flipk...|Apple|     74999|106600|                 29|             7088|              523|MOBFKCTSN3TG3RFJ|        4.6|4 GB|\n",
      "|APPLE iPhone 11 P...|https://www.flipk...|Apple|    117900|140300|                 15|             7088|              523|MOBFKCTSRTHRQTFT|        4.6|4 GB|\n",
      "+--------------------+--------------------+-----+----------+------+-------------------+-----------------+-----------------+----------------+-----------+----+\n",
      "only showing top 20 rows\n",
      "\n"
     ]
    }
   ],
   "source": [
    "dataframe_df.show(20)"
   ]
  },
  {
   "cell_type": "code",
   "execution_count": 13,
   "id": "a86988ed-f67f-4e7a-8980-f037125b6e9d",
   "metadata": {},
   "outputs": [
    {
     "name": "stdout",
     "output_type": "stream",
     "text": [
      "root\n",
      " |-- Product Name: string (nullable = true)\n",
      " |-- Product URL: string (nullable = true)\n",
      " |-- Brand: string (nullable = true)\n",
      " |-- Sale Price: integer (nullable = true)\n",
      " |-- Mrp: integer (nullable = true)\n",
      " |-- Discount Percentage: integer (nullable = true)\n",
      " |-- Number Of Ratings: integer (nullable = true)\n",
      " |-- Number Of Reviews: integer (nullable = true)\n",
      " |-- Upc: string (nullable = true)\n",
      " |-- Star Rating: double (nullable = true)\n",
      " |-- Ram: string (nullable = true)\n",
      "\n"
     ]
    }
   ],
   "source": [
    "dataframe_df.printSchema()"
   ]
  },
  {
   "cell_type": "code",
   "execution_count": 14,
   "id": "10dfc6d3-f23d-4079-adbc-16a7e019e40e",
   "metadata": {},
   "outputs": [
    {
     "data": {
      "text/plain": [
       "62"
      ]
     },
     "execution_count": 14,
     "metadata": {},
     "output_type": "execute_result"
    }
   ],
   "source": [
    "dataframe_df.count()"
   ]
  },
  {
   "cell_type": "code",
   "execution_count": 15,
   "id": "2aebb5ff-3b2e-40d3-99d1-cdfddf2a93e4",
   "metadata": {},
   "outputs": [
    {
     "name": "stdout",
     "output_type": "stream",
     "text": [
      "+-----+\n",
      "|  Mrp|\n",
      "+-----+\n",
      "|49900|\n",
      "|84900|\n",
      "|84900|\n",
      "|77000|\n",
      "|77000|\n",
      "+-----+\n",
      "only showing top 5 rows\n",
      "\n"
     ]
    }
   ],
   "source": [
    "dataframe_df.select(\"Mrp\").show(5)"
   ]
  },
  {
   "cell_type": "code",
   "execution_count": 27,
   "id": "eff1b6be-15b1-45da-8edc-3b5d6857329f",
   "metadata": {},
   "outputs": [],
   "source": [
    "from pyspark.sql.functions import col\n",
    "from pyspark.sql.functions import*\n",
    "# dataframe_df.select(max(col(\"Mrp\"))).show()\n"
   ]
  },
  {
   "cell_type": "code",
   "execution_count": 29,
   "id": "2c9e53d0-ca35-48f8-8aac-d25f15d37464",
   "metadata": {},
   "outputs": [
    {
     "name": "stdout",
     "output_type": "stream",
     "text": [
      "+--------+\n",
      "|max(Mrp)|\n",
      "+--------+\n",
      "|  149900|\n",
      "+--------+\n",
      "\n"
     ]
    }
   ],
   "source": [
    "dataframe_df.select(max(col(\"Mrp\"))).show()"
   ]
  },
  {
   "cell_type": "code",
   "execution_count": 31,
   "id": "a3dbcb1a-2faa-48f7-9e91-1702ac97959e",
   "metadata": {},
   "outputs": [
    {
     "name": "stdout",
     "output_type": "stream",
     "text": [
      "+--------+\n",
      "|min(Mrp)|\n",
      "+--------+\n",
      "|   39900|\n",
      "+--------+\n",
      "\n"
     ]
    }
   ],
   "source": [
    "dataframe_df.select(min(col(\"Mrp\"))).show()"
   ]
  },
  {
   "cell_type": "code",
   "execution_count": 36,
   "id": "1856966b-08cc-4046-82c2-fedfb43efd69",
   "metadata": {},
   "outputs": [
    {
     "name": "stdout",
     "output_type": "stream",
     "text": [
      "+--------------------+--------------------+-----+----------+------+-------------------+-----------------+-----------------+----------------+-----------+----+\n",
      "|        Product Name|         Product URL|Brand|Sale Price|   Mrp|Discount Percentage|Number Of Ratings|Number Of Reviews|             Upc|Star Rating| Ram|\n",
      "+--------------------+--------------------+-----+----------+------+-------------------+-----------------+-----------------+----------------+-----------+----+\n",
      "|APPLE iPhone 12 P...|https://www.flipk...|Apple|    140900|149900|                  6|              542|               42|MOBFWBYZ5UY6ZBVA|        4.5|4 GB|\n",
      "|APPLE iPhone 12 P...|https://www.flipk...|Apple|    140900|149900|                  6|              545|               42|MOBFWBYZTHSXKMGW|        4.5|4 GB|\n",
      "+--------------------+--------------------+-----+----------+------+-------------------+-----------------+-----------------+----------------+-----------+----+\n",
      "\n"
     ]
    }
   ],
   "source": [
    "# to find out the  which data frame\n",
    "dataframe_df.where(\"Mrp=149900\").show()"
   ]
  },
  {
   "cell_type": "code",
   "execution_count": 37,
   "id": "019d863f-204b-44e8-b17c-b8d8f419252a",
   "metadata": {},
   "outputs": [
    {
     "name": "stdout",
     "output_type": "stream",
     "text": [
      "+--------------------+--------------------+-----+----------+-----+-------------------+-----------------+-----------------+----------------+-----------+----+\n",
      "|        Product Name|         Product URL|Brand|Sale Price|  Mrp|Discount Percentage|Number Of Ratings|Number Of Reviews|             Upc|Star Rating| Ram|\n",
      "+--------------------+--------------------+-----+----------+-----+-------------------+-----------------+-----------------+----------------+-----------+----+\n",
      "|APPLE iPhone SE (...|https://www.flipk...|Apple|     29999|39900|                 24|            95807|             8154|MOBFWQ6BGWDVGF3E|        4.5|2 GB|\n",
      "|APPLE iPhone SE (...|https://www.flipk...|Apple|     29999|39900|                 24|            95909|             8161|MOBFWQ6BR3MK7AUG|        4.5|4 GB|\n",
      "+--------------------+--------------------+-----+----------+-----+-------------------+-----------------+-----------------+----------------+-----------+----+\n",
      "\n"
     ]
    }
   ],
   "source": [
    "dataframe_df.where(\"Mrp=39900\").show()"
   ]
  },
  {
   "cell_type": "code",
   "execution_count": 39,
   "id": "f28b7193-06e2-42df-b8ec-5a83977e8bfe",
   "metadata": {
    "scrolled": true
   },
   "outputs": [
    {
     "name": "stdout",
     "output_type": "stream",
     "text": [
      "+--------------------+--------------------+-----+----------+------+-------------------+-----------------+-----------------+----------------+-----------+----+\n",
      "|        Product Name|         Product URL|Brand|Sale Price|   Mrp|Discount Percentage|Number Of Ratings|Number Of Reviews|             Upc|Star Rating| Ram|\n",
      "+--------------------+--------------------+-----+----------+------+-------------------+-----------------+-----------------+----------------+-----------+----+\n",
      "|APPLE iPhone 8 Pl...|https://www.flipk...|Apple|     84900| 84900|                  0|             3431|              356|MOBEXRGVAC6TJT4F|        4.6|2 GB|\n",
      "|APPLE iPhone 8 Pl...|https://www.flipk...|Apple|     84900| 84900|                  0|             3431|              356|MOBEXRGVGETABXWZ|        4.6|2 GB|\n",
      "|APPLE iPhone 8 (S...|https://www.flipk...|Apple|     77000| 77000|                  0|            11202|              794|MOBEXRGVMZWUHCBA|        4.5|2 GB|\n",
      "|APPLE iPhone 8 (G...|https://www.flipk...|Apple|     77000| 77000|                  0|            11202|              794|MOBEXRGVPK7PFEJZ|        4.5|2 GB|\n",
      "|APPLE iPhone 8 (S...|https://www.flipk...|Apple|     77000| 77000|                  0|            11202|              794|MOBEXRGVZFZGZEWV|        4.5|2 GB|\n",
      "|APPLE iPhone XS M...|https://www.flipk...|Apple|     89900| 89900|                  0|             1454|              149|MOBF944E2XAHW8V5|        4.6|4 GB|\n",
      "|Apple iPhone XR (...|https://www.flipk...|Apple|     41999| 52900|                 20|            79512|             6796|MOBF9Z7ZHQC23PWQ|        4.6|4 GB|\n",
      "|Apple iPhone XR (...|https://www.flipk...|Apple|     41999| 52900|                 20|            79582|             6804|MOBF9Z7ZS6GF5UAP|        4.6|4 GB|\n",
      "|Apple iPhone XR (...|https://www.flipk...|Apple|     41999| 52900|                 20|            79512|             6796|MOBF9Z7ZYWNFGZUC|        4.6|3 GB|\n",
      "|Apple iPhone XR (...|https://www.flipk...|Apple|     41999| 52900|                 20|            79512|             6796|MOBF9Z7ZZY3HCDZZ|        4.6|4 GB|\n",
      "|APPLE iPhone 11 P...|https://www.flipk...|Apple|    131900|131900|                  0|             1078|              101|MOBFKCTS7HCHSPFH|        4.7|4 GB|\n",
      "|APPLE iPhone 11 P...|https://www.flipk...|Apple|    117100|117100|                  0|             1078|              101|MOBFKCTSAPAYNSGG|        4.7|4 GB|\n",
      "|APPLE iPhone 11 P...|https://www.flipk...|Apple|    131900|131900|                  0|             1078|              101|MOBFKCTSCAAKGQV7|        4.7|4 GB|\n",
      "|APPLE iPhone 11 P...|https://www.flipk...|Apple|    117100|117100|                  0|             1078|              101|MOBFKCTSKDMKCGQS|        4.7|4 GB|\n",
      "|APPLE iPhone 11 P...|https://www.flipk...|Apple|     74999|106600|                 29|             7088|              523|MOBFKCTSN3TG3RFJ|        4.6|4 GB|\n",
      "|APPLE iPhone 11 P...|https://www.flipk...|Apple|    117900|140300|                 15|             7088|              523|MOBFKCTSRTHRQTFT|        4.6|4 GB|\n",
      "|APPLE iPhone 11 P...|https://www.flipk...|Apple|    117100|117100|                  0|             1078|              101|MOBFKCTSRYPAQNYT|        4.7|4 GB|\n",
      "|APPLE iPhone 11 P...|https://www.flipk...|Apple|    117900|140300|                 15|             7088|              523|MOBFKCTSSJCWYGCC|        4.6|4 GB|\n",
      "|APPLE iPhone 11 P...|https://www.flipk...|Apple|     99900|121300|                 17|             7081|              522|MOBFKCTSWGYSAS9X|        4.6|4 GB|\n",
      "|Apple iPhone SE (...|https://www.flipk...|Apple|     44999| 54900|                 18|            95909|             8161|MOBFRFXHPZCHAPEH|        4.5|2 GB|\n",
      "+--------------------+--------------------+-----+----------+------+-------------------+-----------------+-----------------+----------------+-----------+----+\n",
      "only showing top 20 rows\n",
      "\n"
     ]
    }
   ],
   "source": [
    "dataframe_df.where(\"Mrp>50000\").show()"
   ]
  },
  {
   "cell_type": "code",
   "execution_count": 42,
   "id": "942a2fde-3601-44f8-a149-5e66e69eba7a",
   "metadata": {},
   "outputs": [],
   "source": [
    "dataframe_df.createOrReplaceTempView(\"apple_table\")"
   ]
  },
  {
   "cell_type": "code",
   "execution_count": 43,
   "id": "fd11636c-7d33-4239-a1fb-dc808b34e940",
   "metadata": {},
   "outputs": [
    {
     "name": "stdout",
     "output_type": "stream",
     "text": [
      "+--------------------+--------------------+-----+----------+------+-------------------+-----------------+-----------------+----------------+-----------+----+\n",
      "|        Product Name|         Product URL|Brand|Sale Price|   Mrp|Discount Percentage|Number Of Ratings|Number Of Reviews|             Upc|Star Rating| Ram|\n",
      "+--------------------+--------------------+-----+----------+------+-------------------+-----------------+-----------------+----------------+-----------+----+\n",
      "|APPLE iPhone 8 Pl...|https://www.flipk...|Apple|     49900| 49900|                  0|             3431|              356|MOBEXRGV7EHHTGUH|        4.6|2 GB|\n",
      "|APPLE iPhone 8 Pl...|https://www.flipk...|Apple|     84900| 84900|                  0|             3431|              356|MOBEXRGVAC6TJT4F|        4.6|2 GB|\n",
      "|APPLE iPhone 8 Pl...|https://www.flipk...|Apple|     84900| 84900|                  0|             3431|              356|MOBEXRGVGETABXWZ|        4.6|2 GB|\n",
      "|APPLE iPhone 8 (S...|https://www.flipk...|Apple|     77000| 77000|                  0|            11202|              794|MOBEXRGVMZWUHCBA|        4.5|2 GB|\n",
      "|APPLE iPhone 8 (G...|https://www.flipk...|Apple|     77000| 77000|                  0|            11202|              794|MOBEXRGVPK7PFEJZ|        4.5|2 GB|\n",
      "|APPLE iPhone 8 Pl...|https://www.flipk...|Apple|     49900| 49900|                  0|             3431|              356|MOBEXRGVQGYYP8FV|        4.6|2 GB|\n",
      "|APPLE iPhone 8 Pl...|https://www.flipk...|Apple|     49900| 49900|                  0|             3431|              356|MOBEXRGVQKBREZP8|        4.6|2 GB|\n",
      "|APPLE iPhone 8 (S...|https://www.flipk...|Apple|     77000| 77000|                  0|            11202|              794|MOBEXRGVZFZGZEWV|        4.5|2 GB|\n",
      "|APPLE iPhone XS M...|https://www.flipk...|Apple|     89900| 89900|                  0|             1454|              149|MOBF944E2XAHW8V5|        4.6|4 GB|\n",
      "|Apple iPhone XR (...|https://www.flipk...|Apple|     41999| 52900|                 20|            79512|             6796|MOBF9Z7ZHQC23PWQ|        4.6|4 GB|\n",
      "|Apple iPhone XR (...|https://www.flipk...|Apple|     39999| 47900|                 16|            79512|             6796|MOBF9Z7ZPHGV4GNH|        4.6|4 GB|\n",
      "|Apple iPhone XR (...|https://www.flipk...|Apple|     41999| 52900|                 20|            79582|             6804|MOBF9Z7ZS6GF5UAP|        4.6|4 GB|\n",
      "|Apple iPhone XR (...|https://www.flipk...|Apple|     41999| 52900|                 20|            79512|             6796|MOBF9Z7ZYWNFGZUC|        4.6|3 GB|\n",
      "|Apple iPhone XR (...|https://www.flipk...|Apple|     41999| 52900|                 20|            79512|             6796|MOBF9Z7ZZY3HCDZZ|        4.6|4 GB|\n",
      "|APPLE iPhone 11 P...|https://www.flipk...|Apple|    131900|131900|                  0|             1078|              101|MOBFKCTS7HCHSPFH|        4.7|4 GB|\n",
      "|APPLE iPhone 11 P...|https://www.flipk...|Apple|    117100|117100|                  0|             1078|              101|MOBFKCTSAPAYNSGG|        4.7|4 GB|\n",
      "|APPLE iPhone 11 P...|https://www.flipk...|Apple|    131900|131900|                  0|             1078|              101|MOBFKCTSCAAKGQV7|        4.7|4 GB|\n",
      "|APPLE iPhone 11 P...|https://www.flipk...|Apple|    117100|117100|                  0|             1078|              101|MOBFKCTSKDMKCGQS|        4.7|4 GB|\n",
      "|APPLE iPhone 11 P...|https://www.flipk...|Apple|     74999|106600|                 29|             7088|              523|MOBFKCTSN3TG3RFJ|        4.6|4 GB|\n",
      "|APPLE iPhone 11 P...|https://www.flipk...|Apple|    117900|140300|                 15|             7088|              523|MOBFKCTSRTHRQTFT|        4.6|4 GB|\n",
      "+--------------------+--------------------+-----+----------+------+-------------------+-----------------+-----------------+----------------+-----------+----+\n",
      "only showing top 20 rows\n",
      "\n"
     ]
    }
   ],
   "source": [
    "spark.sql(\"SELECT * from apple_table\").show()"
   ]
  },
  {
   "cell_type": "code",
   "execution_count": 50,
   "id": "72e9cf4c-f258-4d20-9dc5-4fb431653cae",
   "metadata": {},
   "outputs": [
    {
     "name": "stdout",
     "output_type": "stream",
     "text": [
      "+--------------------+-------+\n",
      "|        Product Name|sum_mrp|\n",
      "+--------------------+-------+\n",
      "|APPLE iPhone 12 P...| 129900|\n",
      "|APPLE iPhone 12 P...| 139900|\n",
      "|APPLE iPhone 12 P...| 129900|\n",
      "|APPLE iPhone 11 P...| 117100|\n",
      "|APPLE iPhone 12 P...| 139900|\n",
      "|APPLE iPhone 11 P...| 140300|\n",
      "|APPLE iPhone 12 P...| 119900|\n",
      "|APPLE iPhone 12 P...| 119900|\n",
      "|APPLE iPhone 12 P...| 129900|\n",
      "|APPLE iPhone 11 P...| 117100|\n",
      "|APPLE iPhone 12 P...| 139900|\n",
      "|APPLE iPhone 11 P...| 106600|\n",
      "|APPLE iPhone 12 P...| 139900|\n",
      "|APPLE iPhone 11 P...| 121300|\n",
      "|APPLE iPhone 11 P...| 131900|\n",
      "|APPLE iPhone 11 P...| 140300|\n",
      "|APPLE iPhone 12 P...| 149900|\n",
      "|APPLE iPhone 12 P...| 129900|\n",
      "|APPLE iPhone 12 P...| 149900|\n",
      "|APPLE iPhone 11 P...| 117100|\n",
      "+--------------------+-------+\n",
      "only showing top 20 rows\n",
      "\n"
     ]
    }
   ],
   "source": [
    "spark.sql(\"\"\"\n",
    "select `Product Name`,SUM(Mrp) sum_mrp\n",
    "from apple_table\n",
    "GROUP BY `Product Name`\n",
    "\"\"\").where(\"sum_mrp > 100000\").show()"
   ]
  },
  {
   "cell_type": "code",
   "execution_count": 51,
   "id": "b404b562-9173-4a65-8720-f1d166f28b99",
   "metadata": {},
   "outputs": [
    {
     "name": "stdout",
     "output_type": "stream",
     "text": [
      "+--------------------+--------------------+-----+----------+-----+-------------------+-----------------+-----------------+----------------+-----------+----+---------+\n",
      "|        Product Name|         Product URL|Brand|Sale Price|  Mrp|Discount Percentage|Number Of Ratings|Number Of Reviews|             Upc|Star Rating| Ram|dis_price|\n",
      "+--------------------+--------------------+-----+----------+-----+-------------------+-----------------+-----------------+----------------+-----------+----+---------+\n",
      "|APPLE iPhone 8 Pl...|https://www.flipk...|Apple|     49900|49900|                  0|             3431|              356|MOBEXRGV7EHHTGUH|        4.6|2 GB|   4990.0|\n",
      "|APPLE iPhone 8 Pl...|https://www.flipk...|Apple|     84900|84900|                  0|             3431|              356|MOBEXRGVAC6TJT4F|        4.6|2 GB|   8490.0|\n",
      "|APPLE iPhone 8 Pl...|https://www.flipk...|Apple|     84900|84900|                  0|             3431|              356|MOBEXRGVGETABXWZ|        4.6|2 GB|   8490.0|\n",
      "+--------------------+--------------------+-----+----------+-----+-------------------+-----------------+-----------------+----------------+-----------+----+---------+\n",
      "only showing top 3 rows\n",
      "\n"
     ]
    }
   ],
   "source": [
    "dataframe_df.withColumn(\"dis_price\",col(\"Mrp\")*0.1).show(3)"
   ]
  },
  {
   "cell_type": "code",
   "execution_count": 58,
   "id": "4e6bfd75-0837-49c8-9847-e312e912a269",
   "metadata": {},
   "outputs": [
    {
     "name": "stdout",
     "output_type": "stream",
     "text": [
      "+--------------------+------+---------+---------+\n",
      "|        Product Name|   Mrp|dis_price|new_price|\n",
      "+--------------------+------+---------+---------+\n",
      "|APPLE iPhone 12 P...|149900|  14990.0| 134910.0|\n",
      "|APPLE iPhone 12 P...|149900|  14990.0| 134910.0|\n",
      "|APPLE iPhone 11 P...|140300|  14030.0| 126270.0|\n",
      "|APPLE iPhone 11 P...|140300|  14030.0| 126270.0|\n",
      "|APPLE iPhone 12 P...|139900|  13990.0| 125910.0|\n",
      "|APPLE iPhone 12 P...|139900|  13990.0| 125910.0|\n",
      "|APPLE iPhone 12 P...|139900|  13990.0| 125910.0|\n",
      "|APPLE iPhone 12 P...|139900|  13990.0| 125910.0|\n",
      "|APPLE iPhone 11 P...|131900|  13190.0| 118710.0|\n",
      "|APPLE iPhone 11 P...|131900|  13190.0| 118710.0|\n",
      "+--------------------+------+---------+---------+\n",
      "only showing top 10 rows\n",
      "\n"
     ]
    }
   ],
   "source": [
    "dataframe_df.withColumn(\"dis_price\",col(\"Mrp\")*0.1).select(\"Product Name\",\"Mrp\",\"dis_price\")\\\n",
    ".withColumn(\"new_price\",col(\"Mrp\")-col(\"dis_price\"))\\\n",
    ".orderBy(col(\"new_price\").desc())\\\n",
    ".show(10)"
   ]
  },
  {
   "cell_type": "code",
   "execution_count": null,
   "id": "ec5a9808-3d61-4906-8b40-b1ee7551daaf",
   "metadata": {},
   "outputs": [],
   "source": [
    "dataframe_df.write.mode(\"overwrite"
   ]
  },
  {
   "cell_type": "code",
   "execution_count": null,
   "id": "15646975-29e2-48d1-a002-32506b69a047",
   "metadata": {},
   "outputs": [],
   "source": []
  },
  {
   "cell_type": "code",
   "execution_count": null,
   "id": "85307b25-49c7-450c-a01d-339186836b6e",
   "metadata": {},
   "outputs": [],
   "source": []
  },
  {
   "cell_type": "code",
   "execution_count": null,
   "id": "56338c9c-cf52-463d-9d6b-e596a7d9a875",
   "metadata": {},
   "outputs": [],
   "source": []
  },
  {
   "cell_type": "code",
   "execution_count": null,
   "id": "ac3c263a-e821-401e-8e7b-54830081b070",
   "metadata": {},
   "outputs": [],
   "source": []
  },
  {
   "cell_type": "code",
   "execution_count": null,
   "id": "c3b3a16e-217e-49af-8a43-3f751a587c34",
   "metadata": {},
   "outputs": [],
   "source": []
  },
  {
   "cell_type": "code",
   "execution_count": null,
   "id": "1cf2d222-db67-4b7e-9693-6eac03d1c605",
   "metadata": {},
   "outputs": [],
   "source": []
  },
  {
   "cell_type": "code",
   "execution_count": null,
   "id": "e3be84f9-1f92-4830-8bcf-e60c2fc38539",
   "metadata": {},
   "outputs": [],
   "source": []
  }
 ],
 "metadata": {
  "kernelspec": {
   "display_name": "Python 3 (ipykernel)",
   "language": "python",
   "name": "python3"
  },
  "language_info": {
   "codemirror_mode": {
    "name": "ipython",
    "version": 3
   },
   "file_extension": ".py",
   "mimetype": "text/x-python",
   "name": "python",
   "nbconvert_exporter": "python",
   "pygments_lexer": "ipython3",
   "version": "3.11.0b1"
  }
 },
 "nbformat": 4,
 "nbformat_minor": 5
}
